{
 "cells": [
  {
   "cell_type": "code",
   "execution_count": 1,
   "metadata": {},
   "outputs": [
    {
     "name": "stdout",
     "output_type": "stream",
     "text": [
      "Hello Python\n",
      "This is Jupyter Notebook\n",
      "This is the start of Python tutorial\n",
      "print() is used to display results on the output field\n"
     ]
    }
   ],
   "source": [
    "print(\"Hello Python\")\n",
    "print(\"This is Jupyter Notebook\")\n",
    "print(\"This is the start of Python tutorial\")\n",
    "print(\"print() is used to display results on the output field\")"
   ]
  },
  {
   "cell_type": "code",
   "execution_count": 2,
   "metadata": {},
   "outputs": [
    {
     "name": "stdout",
     "output_type": "stream",
     "text": [
      "Comments won't be visible\n"
     ]
    },
    {
     "data": {
      "text/plain": [
       "'This is a multilinecomment'"
      ]
     },
     "execution_count": 2,
     "metadata": {},
     "output_type": "execute_result"
    }
   ],
   "source": [
    "##This is comments\n",
    "print(\"Comments won't be visible\")\n",
    "'''This is a multilinecomment'''"
   ]
  },
  {
   "cell_type": "code",
   "execution_count": 3,
   "metadata": {},
   "outputs": [
    {
     "data": {
      "text/plain": [
       "7"
      ]
     },
     "execution_count": 3,
     "metadata": {},
     "output_type": "execute_result"
    }
   ],
   "source": [
    "3+4"
   ]
  },
  {
   "cell_type": "code",
   "execution_count": 6,
   "metadata": {},
   "outputs": [
    {
     "name": "stdout",
     "output_type": "stream",
     "text": [
      "33\n",
      "a\n",
      "This is a string\n",
      "2.562\n",
      "True\n",
      "2.562 True\n"
     ]
    }
   ],
   "source": [
    "# declaring python variables\n",
    "\n",
    "# integer\n",
    "x = 10\n",
    "y = 23\n",
    "sum = x + y\n",
    "print(sum)\n",
    "\n",
    "# char\n",
    "ch = 'a'\n",
    "str = \"This is a string\"\n",
    "print(ch)\n",
    "print(str)\n",
    "\n",
    "# float\n",
    "dec_num = 2.562\n",
    "print(dec_num)\n",
    "\n",
    "# bool\n",
    "bool_val = True\n",
    "print(bool_val)\n",
    "\n",
    "print(dec_num, bool_val)"
   ]
  },
  {
   "cell_type": "code",
   "execution_count": 20,
   "metadata": {},
   "outputs": [
    {
     "name": "stdout",
     "output_type": "stream",
     "text": [
      "<class 'int'>\n",
      "<class 'str'>\n",
      "<class 'float'>\n",
      "<class 'bool'>\n"
     ]
    }
   ],
   "source": [
    "# type() method\n",
    "x = 17\n",
    "y = \"IronMan\"\n",
    "z = 95.474\n",
    "a = True\n",
    "print(type(x))\n",
    "print(type(y))\n",
    "print(type(z))\n",
    "print(type(a))"
   ]
  },
  {
   "cell_type": "code",
   "execution_count": 19,
   "metadata": {},
   "outputs": [
    {
     "name": "stdout",
     "output_type": "stream",
     "text": [
      "I am IronMan and I have travelled 17 countries\n",
      "I have 95.474 % battery and it is True\n",
      "Now I am charged to 98.949 % battery\n",
      "17 ~ IronMan ~ 95.474 ~ True\n"
     ]
    }
   ],
   "source": [
    "x = 17\n",
    "y = \"IronMan\"\n",
    "z = 95.474\n",
    "a = True\n",
    "\n",
    "# we can't concat integers, so give a comma operator instead\n",
    "print(\"I am \" + y + \" and I have travelled\",x, \"countries\")\n",
    "print(\"I have\", z, \"% battery and it is\", a)\n",
    "print(\"Now I am charged to\", z+3.475, \"% battery\")\n",
    "\n",
    "# print with the separator\n",
    "print(x, y, z, a, sep=\" ~ \")"
   ]
  },
  {
   "cell_type": "code",
   "execution_count": 7,
   "metadata": {},
   "outputs": [
    {
     "name": "stdout",
     "output_type": "stream",
     "text": [
      "single quote string\n"
     ]
    },
    {
     "data": {
      "text/plain": [
       "'Python Datatypes\\n 1. Numeric \\n i. Integer    ii. Float   iii. Complex Numbers\\n 2. Dictionary(JS objects)\\n 3. Boolean\\n 4. Set ( unordered collection of unique items )\\n 5. Sequence type\\n i. Strings    ii. Lists(arrays)   iii. Tuples((1,2,3,4))\\n 6. None (NULL)'"
      ]
     },
     "execution_count": 7,
     "metadata": {},
     "output_type": "execute_result"
    }
   ],
   "source": [
    "print('single quote string')\n",
    "\n",
    "'''Python Datatypes\n",
    " 1. Numeric \n",
    " i. Integer    ii. Float   iii. Complex Numbers\n",
    " 2. Dictionary(JS objects)\n",
    " 3. Boolean\n",
    " 4. Set ( unordered collection of unique items )\n",
    " 5. Sequence type\n",
    " i. Strings    ii. Lists(arrays)   iii. Tuples((1,2,3,4))\n",
    " 6. None (NULL)'''"
   ]
  },
  {
   "cell_type": "code",
   "execution_count": 2,
   "metadata": {},
   "outputs": [
    {
     "name": "stdout",
     "output_type": "stream",
     "text": [
      "97\n",
      "A\n"
     ]
    }
   ],
   "source": [
    "# some in-built functions\n",
    "\n",
    "# ord() : print ascii values of characters\n",
    "ch = 'a'\n",
    "print(ord(ch))\n",
    "\n",
    "# chr() : print character for the ascii value\n",
    "ch2 = 65\n",
    "print(chr(ch2))"
   ]
  },
  {
   "cell_type": "code",
   "execution_count": 2,
   "metadata": {},
   "outputs": [
    {
     "name": "stdout",
     "output_type": "stream",
     "text": [
      "addition :  9\n",
      "subtraction :  1\n",
      "multiplication :  20\n",
      "division :  1.25\n",
      "modulo :  1\n",
      "exponentiation :  81\n",
      "Floor division 1\n"
     ]
    }
   ],
   "source": [
    "# Arithmetic operators\n",
    "# +, -, *, /, %, ** => exponential, // => floor division(round it off to nerest whole no)\n",
    "\n",
    "# arithmetic operators examples\n",
    "print(\"addition : \", 5+4)\n",
    "print(\"subtraction : \", 5-4)\n",
    "print(\"multiplication : \", 5*4)\n",
    "print(\"division : \", 5/4)\n",
    "print(\"modulo : \", 5%4)\n",
    "print(\"exponentiation : \", 3**4)\n",
    "print(\"Floor division\", 4//3)"
   ]
  },
  {
   "cell_type": "code",
   "execution_count": 10,
   "metadata": {},
   "outputs": [
    {
     "data": {
      "text/plain": [
       "'1. =\\n2. +=, -=, *= , /= \\n3. ==, !=, >=, <=, >, < '"
      ]
     },
     "execution_count": 10,
     "metadata": {},
     "output_type": "execute_result"
    }
   ],
   "source": [
    "# Assignment operators\n",
    "'''\n",
    "1. =\n",
    "2. +=, -=, *= , /= \n",
    "3. ==, !=, >=, <=, >, < \n",
    "''' \n"
   ]
  },
  {
   "cell_type": "code",
   "execution_count": 13,
   "metadata": {},
   "outputs": [
    {
     "name": "stdout",
     "output_type": "stream",
     "text": [
      "and :  False\n",
      "or :  True\n",
      "not :  True\n"
     ]
    }
   ],
   "source": [
    "# Logical operator\n",
    "exp1 = 2 > 1 # True\n",
    "exp2 = 5 < 4 # False\n",
    "print(\"and : \", exp1 and exp2)\n",
    "print(\"or : \", exp1 or exp2)\n",
    "print(\"not : \", not exp2)"
   ]
  },
  {
   "cell_type": "code",
   "execution_count": 14,
   "metadata": {},
   "outputs": [
    {
     "name": "stdout",
     "output_type": "stream",
     "text": [
      "if x is y :  True\n",
      "if x is not y :  False\n"
     ]
    }
   ],
   "source": [
    "# Identity operators\n",
    "\n",
    "# 1. is => returns true if both VARIABLES ARE SAME OBJECTS\n",
    "# 2. is not => returns true if both VARIABLES ARE NOT THE SAME OBJECTS\n",
    "\n",
    "x = 5\n",
    "y = 5\n",
    "\n",
    "print(\"if x is y : \", x is y)\n",
    "print(\"if x is not y : \", x is not y) "
   ]
  },
  {
   "cell_type": "code",
   "execution_count": 17,
   "metadata": {},
   "outputs": [
    {
     "name": "stdout",
     "output_type": "stream",
     "text": [
      "if banana is present in fruits :  True\n",
      "if mango is present in fruits :  True\n"
     ]
    }
   ],
   "source": [
    "# Membership operators(use with lists, tuples)\n",
    "# 1. 'in' = returns TRUE if A SEQUENCE WITH THE SPECIFIED VALUE IS PRESENT IN THE OBJECT\n",
    "# 2. 'not in' = returns TRUE if A SEQUENCE WITH THE SPECIFIED VALUE IS NOT PRESENT\n",
    "\n",
    "fruits = [\"apples\", \"banana\", \"cherry\"]\n",
    "print(\"if banana is present in fruits : \", \"banana\" in fruits)\n",
    "print(\"if mango is present in fruits : \", \"mango\" not in fruits)"
   ]
  },
  {
   "cell_type": "code",
   "execution_count": 18,
   "metadata": {},
   "outputs": [
    {
     "name": "stdout",
     "output_type": "stream",
     "text": [
      "a & b :  1\n",
      "a | b :  7\n",
      "a ^ b :  6\n"
     ]
    }
   ],
   "source": [
    "# Bitwise operators\n",
    "a = 5\n",
    "b = 3\n",
    "print(\"a & b : \", a & b)\n",
    "print(\"a | b : \", a | b)\n",
    "print(\"a ^ b : \", a ^ b)"
   ]
  },
  {
   "cell_type": "code",
   "execution_count": 8,
   "metadata": {},
   "outputs": [
    {
     "name": "stdout",
     "output_type": "stream",
     "text": [
      "Volume of the Sphere is :  523.5966666666666\n"
     ]
    }
   ],
   "source": [
    "# Volume of sphere\n",
    "r = float(input(\"Enter the radius of the sphere : \"))\n",
    "vol = (4/3)*3.14158*(r**3)\n",
    "print(\"Volume of the Sphere is : \", vol)"
   ]
  },
  {
   "cell_type": "code",
   "execution_count": null,
   "metadata": {},
   "outputs": [],
   "source": [
    "# operator precedence\n",
    "'''\n",
    "1. ()\n",
    "2. **\n",
    "3. /, //, %\n",
    "4. *\n",
    "5. +, -\n",
    "6. Bitwise shift >>, <<\n",
    "7. &, |, ^\n",
    "8. comparision ==, !=, >, <\n",
    "9. Logical operators\n",
    "'''"
   ]
  },
  {
   "cell_type": "code",
   "execution_count": 26,
   "metadata": {},
   "outputs": [
    {
     "name": "stdout",
     "output_type": "stream",
     "text": [
      "Finally the result is : 235 and its type is <class 'str'>\n"
     ]
    }
   ],
   "source": [
    "# type casting\n",
    "a = 2\n",
    "b = 3\n",
    "c = 5\n",
    "\n",
    "a_str = str(a)\n",
    "b_str = str(b)\n",
    "c_str = str(c)\n",
    "\n",
    "final_str = a_str + b_str + c_str\n",
    "print(\"Finally the result is :\", final_str,\"and its type is\", type(final_str))"
   ]
  },
  {
   "cell_type": "code",
   "execution_count": 9,
   "metadata": {},
   "outputs": [
    {
     "name": "stdout",
     "output_type": "stream",
     "text": [
      "The Temperature in deg F is :  50.0\n"
     ]
    }
   ],
   "source": [
    "# Celsius to Fahrenheit temperature\n",
    "deg_c = int(input(\"Enter the temperature in degree Celsius : \"))\n",
    "f = ((9/5)*deg_c)+32\n",
    "print(\"The Temperature in deg F is : \", f)"
   ]
  }
 ],
 "metadata": {
  "kernelspec": {
   "display_name": "Python 3",
   "language": "python",
   "name": "python3"
  },
  "language_info": {
   "codemirror_mode": {
    "name": "ipython",
    "version": 3
   },
   "file_extension": ".py",
   "mimetype": "text/x-python",
   "name": "python",
   "nbconvert_exporter": "python",
   "pygments_lexer": "ipython3",
   "version": "3.11.0"
  }
 },
 "nbformat": 4,
 "nbformat_minor": 2
}
